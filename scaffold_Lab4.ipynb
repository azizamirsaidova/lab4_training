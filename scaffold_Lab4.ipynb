{
  "nbformat": 4,
  "nbformat_minor": 0,
  "metadata": {
    "kernelspec": {
      "display_name": "Python 3",
      "language": "python",
      "name": "python3"
    },
    "language_info": {
      "codemirror_mode": {
        "name": "ipython",
        "version": 3
      },
      "file_extension": ".py",
      "mimetype": "text/x-python",
      "name": "python",
      "nbconvert_exporter": "python",
      "pygments_lexer": "ipython3",
      "version": "3.9.1"
    },
    "colab": {
      "name": "scaffold_Lab4.ipynb",
      "provenance": [],
      "include_colab_link": true
    }
  },
  "cells": [
    {
      "cell_type": "markdown",
      "metadata": {
        "id": "view-in-github",
        "colab_type": "text"
      },
      "source": [
        "<a href=\"https://colab.research.google.com/github/azizamirsaidova/lab4_training/blob/main/scaffold_Lab4.ipynb\" target=\"_parent\"><img src=\"https://colab.research.google.com/assets/colab-badge.svg\" alt=\"Open In Colab\"/></a>"
      ]
    },
    {
      "cell_type": "markdown",
      "metadata": {
        "id": "qualztssYKho"
      },
      "source": [
        "# Training Recommendation systems and interpreting the results"
      ]
    },
    {
      "cell_type": "code",
      "metadata": {
        "id": "CDr-nDThYKh5"
      },
      "source": [
        "import numpy as np\n",
        "import pandas as pd\n",
        "import matplotlib.pyplot as plt\n",
        "import seaborn as sns\n",
        "\n",
        "\n",
        "%matplotlib inline"
      ],
      "execution_count": 1,
      "outputs": []
    },
    {
      "cell_type": "markdown",
      "metadata": {
        "id": "OwsweSKmYKh6"
      },
      "source": [
        "## Read in the data and prepare it"
      ]
    },
    {
      "cell_type": "code",
      "metadata": {
        "id": "Dn-fi_g5YKh8",
        "colab": {
          "base_uri": "https://localhost:8080/",
          "height": 204
        },
        "outputId": "30594f8c-d5f2-4dd1-9b2c-56a9f87178d8"
      },
      "source": [
        "df = pd.read_csv(\"ratings.csv\")\n",
        "df.head() #grouped by userID"
      ],
      "execution_count": 3,
      "outputs": [
        {
          "output_type": "execute_result",
          "data": {
            "text/html": [
              "<div>\n",
              "<style scoped>\n",
              "    .dataframe tbody tr th:only-of-type {\n",
              "        vertical-align: middle;\n",
              "    }\n",
              "\n",
              "    .dataframe tbody tr th {\n",
              "        vertical-align: top;\n",
              "    }\n",
              "\n",
              "    .dataframe thead th {\n",
              "        text-align: right;\n",
              "    }\n",
              "</style>\n",
              "<table border=\"1\" class=\"dataframe\">\n",
              "  <thead>\n",
              "    <tr style=\"text-align: right;\">\n",
              "      <th></th>\n",
              "      <th>userId</th>\n",
              "      <th>movieId</th>\n",
              "      <th>rating</th>\n",
              "      <th>timestamp</th>\n",
              "    </tr>\n",
              "  </thead>\n",
              "  <tbody>\n",
              "    <tr>\n",
              "      <th>0</th>\n",
              "      <td>1</td>\n",
              "      <td>1</td>\n",
              "      <td>4.0</td>\n",
              "      <td>964982703</td>\n",
              "    </tr>\n",
              "    <tr>\n",
              "      <th>1</th>\n",
              "      <td>1</td>\n",
              "      <td>3</td>\n",
              "      <td>4.0</td>\n",
              "      <td>964981247</td>\n",
              "    </tr>\n",
              "    <tr>\n",
              "      <th>2</th>\n",
              "      <td>1</td>\n",
              "      <td>6</td>\n",
              "      <td>4.0</td>\n",
              "      <td>964982224</td>\n",
              "    </tr>\n",
              "    <tr>\n",
              "      <th>3</th>\n",
              "      <td>1</td>\n",
              "      <td>47</td>\n",
              "      <td>5.0</td>\n",
              "      <td>964983815</td>\n",
              "    </tr>\n",
              "    <tr>\n",
              "      <th>4</th>\n",
              "      <td>1</td>\n",
              "      <td>50</td>\n",
              "      <td>5.0</td>\n",
              "      <td>964982931</td>\n",
              "    </tr>\n",
              "  </tbody>\n",
              "</table>\n",
              "</div>"
            ],
            "text/plain": [
              "   userId  movieId  rating  timestamp\n",
              "0       1        1     4.0  964982703\n",
              "1       1        3     4.0  964981247\n",
              "2       1        6     4.0  964982224\n",
              "3       1       47     5.0  964983815\n",
              "4       1       50     5.0  964982931"
            ]
          },
          "metadata": {
            "tags": []
          },
          "execution_count": 3
        }
      ]
    },
    {
      "cell_type": "code",
      "metadata": {
        "id": "zA_GJQj9YKh9",
        "colab": {
          "base_uri": "https://localhost:8080/"
        },
        "outputId": "735b6a3f-f8ce-4f5a-b39c-a097a91f5a02"
      },
      "source": [
        "df.shape"
      ],
      "execution_count": 4,
      "outputs": [
        {
          "output_type": "execute_result",
          "data": {
            "text/plain": [
              "(100836, 4)"
            ]
          },
          "metadata": {
            "tags": []
          },
          "execution_count": 4
        }
      ]
    },
    {
      "cell_type": "code",
      "metadata": {
        "id": "s0YePoxqYKh-",
        "colab": {
          "base_uri": "https://localhost:8080/",
          "height": 204
        },
        "outputId": "644e3038-db7f-45ea-8dfa-3f169d5ce3d3"
      },
      "source": [
        "moviesdf = pd.read_csv(\"movies.csv\")\n",
        "moviesdf.head()"
      ],
      "execution_count": 5,
      "outputs": [
        {
          "output_type": "execute_result",
          "data": {
            "text/html": [
              "<div>\n",
              "<style scoped>\n",
              "    .dataframe tbody tr th:only-of-type {\n",
              "        vertical-align: middle;\n",
              "    }\n",
              "\n",
              "    .dataframe tbody tr th {\n",
              "        vertical-align: top;\n",
              "    }\n",
              "\n",
              "    .dataframe thead th {\n",
              "        text-align: right;\n",
              "    }\n",
              "</style>\n",
              "<table border=\"1\" class=\"dataframe\">\n",
              "  <thead>\n",
              "    <tr style=\"text-align: right;\">\n",
              "      <th></th>\n",
              "      <th>movieId</th>\n",
              "      <th>title</th>\n",
              "      <th>genres</th>\n",
              "    </tr>\n",
              "  </thead>\n",
              "  <tbody>\n",
              "    <tr>\n",
              "      <th>0</th>\n",
              "      <td>1</td>\n",
              "      <td>Toy Story (1995)</td>\n",
              "      <td>Adventure|Animation|Children|Comedy|Fantasy</td>\n",
              "    </tr>\n",
              "    <tr>\n",
              "      <th>1</th>\n",
              "      <td>2</td>\n",
              "      <td>Jumanji (1995)</td>\n",
              "      <td>Adventure|Children|Fantasy</td>\n",
              "    </tr>\n",
              "    <tr>\n",
              "      <th>2</th>\n",
              "      <td>3</td>\n",
              "      <td>Grumpier Old Men (1995)</td>\n",
              "      <td>Comedy|Romance</td>\n",
              "    </tr>\n",
              "    <tr>\n",
              "      <th>3</th>\n",
              "      <td>4</td>\n",
              "      <td>Waiting to Exhale (1995)</td>\n",
              "      <td>Comedy|Drama|Romance</td>\n",
              "    </tr>\n",
              "    <tr>\n",
              "      <th>4</th>\n",
              "      <td>5</td>\n",
              "      <td>Father of the Bride Part II (1995)</td>\n",
              "      <td>Comedy</td>\n",
              "    </tr>\n",
              "  </tbody>\n",
              "</table>\n",
              "</div>"
            ],
            "text/plain": [
              "   movieId  ...                                       genres\n",
              "0        1  ...  Adventure|Animation|Children|Comedy|Fantasy\n",
              "1        2  ...                   Adventure|Children|Fantasy\n",
              "2        3  ...                               Comedy|Romance\n",
              "3        4  ...                         Comedy|Drama|Romance\n",
              "4        5  ...                                       Comedy\n",
              "\n",
              "[5 rows x 3 columns]"
            ]
          },
          "metadata": {
            "tags": []
          },
          "execution_count": 5
        }
      ]
    },
    {
      "cell_type": "markdown",
      "metadata": {
        "id": "hBjm98wjYKh-"
      },
      "source": [
        "To use embeddings, we must set up the index to be consecutive."
      ]
    },
    {
      "cell_type": "code",
      "metadata": {
        "id": "lDhvPdopYKh_",
        "colab": {
          "base_uri": "https://localhost:8080/"
        },
        "outputId": "bdd4a295-83fe-43e5-cb3b-63be8c86a043"
      },
      "source": [
        "users = df.userId.unique()\n",
        "movies = df.movieId.unique()#df!!!.moviedId -  only rated movie ID\n",
        "#users,movies #1 to 610, 1 to 163981\n",
        "#df[df['rating']==1].shape"
      ],
      "execution_count": 24,
      "outputs": [
        {
          "output_type": "execute_result",
          "data": {
            "text/plain": [
              "(2811, 4)"
            ]
          },
          "metadata": {
            "tags": []
          },
          "execution_count": 24
        }
      ]
    },
    {
      "cell_type": "code",
      "metadata": {
        "colab": {
          "base_uri": "https://localhost:8080/",
          "height": 80
        },
        "id": "k47aWYjfdvMU",
        "outputId": "39fd5b63-594f-4c0c-e1b5-05fea8d239a6"
      },
      "source": [
        "moviesdf[moviesdf.movieId==2]"
      ],
      "execution_count": 25,
      "outputs": [
        {
          "output_type": "execute_result",
          "data": {
            "text/html": [
              "<div>\n",
              "<style scoped>\n",
              "    .dataframe tbody tr th:only-of-type {\n",
              "        vertical-align: middle;\n",
              "    }\n",
              "\n",
              "    .dataframe tbody tr th {\n",
              "        vertical-align: top;\n",
              "    }\n",
              "\n",
              "    .dataframe thead th {\n",
              "        text-align: right;\n",
              "    }\n",
              "</style>\n",
              "<table border=\"1\" class=\"dataframe\">\n",
              "  <thead>\n",
              "    <tr style=\"text-align: right;\">\n",
              "      <th></th>\n",
              "      <th>movieId</th>\n",
              "      <th>title</th>\n",
              "      <th>genres</th>\n",
              "      <th>id</th>\n",
              "    </tr>\n",
              "  </thead>\n",
              "  <tbody>\n",
              "    <tr>\n",
              "      <th>1</th>\n",
              "      <td>2</td>\n",
              "      <td>Jumanji (1995)</td>\n",
              "      <td>Adventure|Children|Fantasy</td>\n",
              "      <td>481</td>\n",
              "    </tr>\n",
              "  </tbody>\n",
              "</table>\n",
              "</div>"
            ],
            "text/plain": [
              "   movieId           title                      genres   id\n",
              "1        2  Jumanji (1995)  Adventure|Children|Fantasy  481"
            ]
          },
          "metadata": {
            "tags": []
          },
          "execution_count": 25
        }
      ]
    },
    {
      "cell_type": "code",
      "metadata": {
        "id": "i2JDy0mzdg3-"
      },
      "source": [
        "movieid2idx = {o:i for i,o in enumerate(movies)}"
      ],
      "execution_count": 8,
      "outputs": []
    },
    {
      "cell_type": "code",
      "metadata": {
        "id": "FUpzN3lWYKh_"
      },
      "source": [
        "userid2idx = {o:i for i,o in enumerate(users)} #all the users 0 indexed\n",
        "movieid2idx = {o:i for i,o in enumerate(movies)}#mapping rated movieIDs to 0 indexed\n",
        "#userid2idx"
      ],
      "execution_count": 26,
      "outputs": []
    },
    {
      "cell_type": "code",
      "metadata": {
        "id": "-m3MOkIecM4o"
      },
      "source": [
        "#movieid2idx"
      ],
      "execution_count": null,
      "outputs": []
    },
    {
      "cell_type": "code",
      "metadata": {
        "id": "TUG-vb_OYKiA",
        "colab": {
          "base_uri": "https://localhost:8080/",
          "height": 204
        },
        "outputId": "d1639472-63e8-4d99-922e-5e1dce46c3bf"
      },
      "source": [
        "df['movieId'] = df.movieId.apply(lambda x: movieid2idx[x])\n",
        "df['userId'] = df.userId.apply(lambda x: userid2idx[x])\n",
        "\n",
        "\n",
        "moviesdf = moviesdf[moviesdf.movieId.isin(movies)] #getting all the movie info for the movies that are rated\n",
        "moviesdf['id'] = moviesdf.movieId.apply(lambda x: movieid2idx[x]) #making a new column called ID which has the new final df movie ID \n",
        "moviesdf.head()"
      ],
      "execution_count": 29,
      "outputs": [
        {
          "output_type": "execute_result",
          "data": {
            "text/html": [
              "<div>\n",
              "<style scoped>\n",
              "    .dataframe tbody tr th:only-of-type {\n",
              "        vertical-align: middle;\n",
              "    }\n",
              "\n",
              "    .dataframe tbody tr th {\n",
              "        vertical-align: top;\n",
              "    }\n",
              "\n",
              "    .dataframe thead th {\n",
              "        text-align: right;\n",
              "    }\n",
              "</style>\n",
              "<table border=\"1\" class=\"dataframe\">\n",
              "  <thead>\n",
              "    <tr style=\"text-align: right;\">\n",
              "      <th></th>\n",
              "      <th>movieId</th>\n",
              "      <th>title</th>\n",
              "      <th>genres</th>\n",
              "      <th>id</th>\n",
              "    </tr>\n",
              "  </thead>\n",
              "  <tbody>\n",
              "    <tr>\n",
              "      <th>0</th>\n",
              "      <td>1</td>\n",
              "      <td>Toy Story (1995)</td>\n",
              "      <td>Adventure|Animation|Children|Comedy|Fantasy</td>\n",
              "      <td>1</td>\n",
              "    </tr>\n",
              "    <tr>\n",
              "      <th>1</th>\n",
              "      <td>2</td>\n",
              "      <td>Jumanji (1995)</td>\n",
              "      <td>Adventure|Children|Fantasy</td>\n",
              "      <td>2</td>\n",
              "    </tr>\n",
              "    <tr>\n",
              "      <th>2</th>\n",
              "      <td>3</td>\n",
              "      <td>Grumpier Old Men (1995)</td>\n",
              "      <td>Comedy|Romance</td>\n",
              "      <td>3</td>\n",
              "    </tr>\n",
              "    <tr>\n",
              "      <th>3</th>\n",
              "      <td>4</td>\n",
              "      <td>Waiting to Exhale (1995)</td>\n",
              "      <td>Comedy|Drama|Romance</td>\n",
              "      <td>4</td>\n",
              "    </tr>\n",
              "    <tr>\n",
              "      <th>4</th>\n",
              "      <td>5</td>\n",
              "      <td>Father of the Bride Part II (1995)</td>\n",
              "      <td>Comedy</td>\n",
              "      <td>5</td>\n",
              "    </tr>\n",
              "  </tbody>\n",
              "</table>\n",
              "</div>"
            ],
            "text/plain": [
              "   movieId  ... id\n",
              "0        1  ...  1\n",
              "1        2  ...  2\n",
              "2        3  ...  3\n",
              "3        4  ...  4\n",
              "4        5  ...  5\n",
              "\n",
              "[5 rows x 4 columns]"
            ]
          },
          "metadata": {
            "tags": []
          },
          "execution_count": 29
        }
      ]
    },
    {
      "cell_type": "markdown",
      "metadata": {
        "id": "I-ROd_htYKiA"
      },
      "source": [
        "You could also do this using up a categorical dtype\n",
        "\n",
        "df.userId = df.userId.astype('category').cat.codes.values\n",
        "df.movieId = df.movieId.astype('category').cat.codes.values"
      ]
    },
    {
      "cell_type": "code",
      "metadata": {
        "id": "n4imQ0u-YKiB",
        "colab": {
          "base_uri": "https://localhost:8080/",
          "height": 235
        },
        "outputId": "e5e5840b-f5f6-4b9d-becb-3ab9f8acc138"
      },
      "source": [
        "moviesdf = moviesdf.drop('movieId', axis=1).set_index('id')\n",
        "moviesdf.head() #completed the transformation"
      ],
      "execution_count": 30,
      "outputs": [
        {
          "output_type": "execute_result",
          "data": {
            "text/html": [
              "<div>\n",
              "<style scoped>\n",
              "    .dataframe tbody tr th:only-of-type {\n",
              "        vertical-align: middle;\n",
              "    }\n",
              "\n",
              "    .dataframe tbody tr th {\n",
              "        vertical-align: top;\n",
              "    }\n",
              "\n",
              "    .dataframe thead th {\n",
              "        text-align: right;\n",
              "    }\n",
              "</style>\n",
              "<table border=\"1\" class=\"dataframe\">\n",
              "  <thead>\n",
              "    <tr style=\"text-align: right;\">\n",
              "      <th></th>\n",
              "      <th>title</th>\n",
              "      <th>genres</th>\n",
              "    </tr>\n",
              "    <tr>\n",
              "      <th>id</th>\n",
              "      <th></th>\n",
              "      <th></th>\n",
              "    </tr>\n",
              "  </thead>\n",
              "  <tbody>\n",
              "    <tr>\n",
              "      <th>1</th>\n",
              "      <td>Toy Story (1995)</td>\n",
              "      <td>Adventure|Animation|Children|Comedy|Fantasy</td>\n",
              "    </tr>\n",
              "    <tr>\n",
              "      <th>2</th>\n",
              "      <td>Jumanji (1995)</td>\n",
              "      <td>Adventure|Children|Fantasy</td>\n",
              "    </tr>\n",
              "    <tr>\n",
              "      <th>3</th>\n",
              "      <td>Grumpier Old Men (1995)</td>\n",
              "      <td>Comedy|Romance</td>\n",
              "    </tr>\n",
              "    <tr>\n",
              "      <th>4</th>\n",
              "      <td>Waiting to Exhale (1995)</td>\n",
              "      <td>Comedy|Drama|Romance</td>\n",
              "    </tr>\n",
              "    <tr>\n",
              "      <th>5</th>\n",
              "      <td>Father of the Bride Part II (1995)</td>\n",
              "      <td>Comedy</td>\n",
              "    </tr>\n",
              "  </tbody>\n",
              "</table>\n",
              "</div>"
            ],
            "text/plain": [
              "                                 title                                       genres\n",
              "id                                                                                 \n",
              "1                     Toy Story (1995)  Adventure|Animation|Children|Comedy|Fantasy\n",
              "2                       Jumanji (1995)                   Adventure|Children|Fantasy\n",
              "3              Grumpier Old Men (1995)                               Comedy|Romance\n",
              "4             Waiting to Exhale (1995)                         Comedy|Drama|Romance\n",
              "5   Father of the Bride Part II (1995)                                       Comedy"
            ]
          },
          "metadata": {
            "tags": []
          },
          "execution_count": 30
        }
      ]
    },
    {
      "cell_type": "code",
      "metadata": {
        "id": "nt6XkUyWYKiC",
        "colab": {
          "base_uri": "https://localhost:8080/",
          "height": 204
        },
        "outputId": "8c435eb3-4ea0-4f73-ce86-3ea128a72ad9"
      },
      "source": [
        "df.head()"
      ],
      "execution_count": 31,
      "outputs": [
        {
          "output_type": "execute_result",
          "data": {
            "text/html": [
              "<div>\n",
              "<style scoped>\n",
              "    .dataframe tbody tr th:only-of-type {\n",
              "        vertical-align: middle;\n",
              "    }\n",
              "\n",
              "    .dataframe tbody tr th {\n",
              "        vertical-align: top;\n",
              "    }\n",
              "\n",
              "    .dataframe thead th {\n",
              "        text-align: right;\n",
              "    }\n",
              "</style>\n",
              "<table border=\"1\" class=\"dataframe\">\n",
              "  <thead>\n",
              "    <tr style=\"text-align: right;\">\n",
              "      <th></th>\n",
              "      <th>userId</th>\n",
              "      <th>movieId</th>\n",
              "      <th>rating</th>\n",
              "      <th>timestamp</th>\n",
              "    </tr>\n",
              "  </thead>\n",
              "  <tbody>\n",
              "    <tr>\n",
              "      <th>0</th>\n",
              "      <td>0</td>\n",
              "      <td>0</td>\n",
              "      <td>4.0</td>\n",
              "      <td>964982703</td>\n",
              "    </tr>\n",
              "    <tr>\n",
              "      <th>1</th>\n",
              "      <td>0</td>\n",
              "      <td>1</td>\n",
              "      <td>4.0</td>\n",
              "      <td>964981247</td>\n",
              "    </tr>\n",
              "    <tr>\n",
              "      <th>2</th>\n",
              "      <td>0</td>\n",
              "      <td>2</td>\n",
              "      <td>4.0</td>\n",
              "      <td>964982224</td>\n",
              "    </tr>\n",
              "    <tr>\n",
              "      <th>3</th>\n",
              "      <td>0</td>\n",
              "      <td>3</td>\n",
              "      <td>5.0</td>\n",
              "      <td>964983815</td>\n",
              "    </tr>\n",
              "    <tr>\n",
              "      <th>4</th>\n",
              "      <td>0</td>\n",
              "      <td>4</td>\n",
              "      <td>5.0</td>\n",
              "      <td>964982931</td>\n",
              "    </tr>\n",
              "  </tbody>\n",
              "</table>\n",
              "</div>"
            ],
            "text/plain": [
              "   userId  movieId  rating  timestamp\n",
              "0       0        0     4.0  964982703\n",
              "1       0        1     4.0  964981247\n",
              "2       0        2     4.0  964982224\n",
              "3       0        3     5.0  964983815\n",
              "4       0        4     5.0  964982931"
            ]
          },
          "metadata": {
            "tags": []
          },
          "execution_count": 31
        }
      ]
    },
    {
      "cell_type": "code",
      "metadata": {
        "id": "O9vaY94yYKiC"
      },
      "source": [
        "movie_names = moviesdf.title.to_dict() #trasnformed key:movie name"
      ],
      "execution_count": 32,
      "outputs": []
    },
    {
      "cell_type": "code",
      "metadata": {
        "id": "OYDfqIQFYKiC"
      },
      "source": [
        "df.to_csv(\"ratings_contig.csv\", index=False)\n",
        "moviesdf.to_csv(\"movies_contig.csv\", index=False)"
      ],
      "execution_count": 35,
      "outputs": []
    },
    {
      "cell_type": "code",
      "metadata": {
        "id": "r1ABL-CHYKiD",
        "colab": {
          "base_uri": "https://localhost:8080/"
        },
        "outputId": "b315e207-8276-4f11-adc8-dd13e9a03277"
      },
      "source": [
        "nusers = df.userId.nunique()\n",
        "nmovies = df.movieId.nunique()\n",
        "nusers, nmovies"
      ],
      "execution_count": 36,
      "outputs": [
        {
          "output_type": "execute_result",
          "data": {
            "text/plain": [
              "(610, 9724)"
            ]
          },
          "metadata": {
            "tags": []
          },
          "execution_count": 36
        }
      ]
    },
    {
      "cell_type": "markdown",
      "metadata": {
        "id": "2CzX2DhwYKiD"
      },
      "source": [
        "## Setting up the Model"
      ]
    },
    {
      "cell_type": "markdown",
      "metadata": {
        "id": "WTOvJ5aiYKiE"
      },
      "source": [
        "### Train-test split"
      ]
    },
    {
      "cell_type": "code",
      "metadata": {
        "id": "3Cbhhl8nYKiE",
        "colab": {
          "base_uri": "https://localhost:8080/"
        },
        "outputId": "8dc72a7b-c5b3-4d94-87ac-4e2fc319208b"
      },
      "source": [
        "np.random.seed=2017\n",
        "from sklearn.model_selection import train_test_split\n",
        "train_indices, val_indices = train_test_split(range(df.shape[0]), train_size=0.8)\n",
        "trdf = df.iloc[train_indices]\n",
        "valdf = df.iloc[val_indices]\n",
        "trdf.shape, valdf.shape"
      ],
      "execution_count": 37,
      "outputs": [
        {
          "output_type": "execute_result",
          "data": {
            "text/plain": [
              "((80668, 4), (20168, 4))"
            ]
          },
          "metadata": {
            "tags": []
          },
          "execution_count": 37
        }
      ]
    },
    {
      "cell_type": "code",
      "metadata": {
        "id": "gO-AR_wCYKiF",
        "colab": {
          "base_uri": "https://localhost:8080/"
        },
        "outputId": "fa568cdf-731b-4194-8fb2-0f0a5ebebf6b"
      },
      "source": [
        "import tensorflow.keras as keras\n",
        "import tensorflow as tf\n",
        "print(tf.__version__)"
      ],
      "execution_count": 38,
      "outputs": [
        {
          "output_type": "stream",
          "text": [
            "2.4.1\n"
          ],
          "name": "stdout"
        }
      ]
    },
    {
      "cell_type": "code",
      "metadata": {
        "id": "8tsT_0F5YKiF"
      },
      "source": [
        "from tensorflow.keras.layers import Input, Embedding, Add, Dot, Flatten\n",
        "from tensorflow.keras import Model\n",
        "from tensorflow.keras.regularizers import l2\n",
        "from tensorflow.keras.optimizers import Adam"
      ],
      "execution_count": 39,
      "outputs": []
    },
    {
      "cell_type": "markdown",
      "metadata": {
        "id": "cL5douL3YKiG"
      },
      "source": [
        "We first set our hypeparameters, the size of the latent factors or the embeddings, up, and the amount of regularization. You will usually want to fit these hyper-parameters on the validation set."
      ]
    },
    {
      "cell_type": "code",
      "metadata": {
        "id": "roQM8IvgYKiG"
      },
      "source": [
        "L = 50"
      ],
      "execution_count": 40,
      "outputs": []
    },
    {
      "cell_type": "code",
      "metadata": {
        "id": "aNA6uMm8YKiG"
      },
      "source": [
        "REG=5e-4"
      ],
      "execution_count": 41,
      "outputs": []
    },
    {
      "cell_type": "markdown",
      "metadata": {
        "id": "2qzWY6BuYKiH"
      },
      "source": [
        "We first write a function to return us a bias layer:"
      ]
    },
    {
      "cell_type": "code",
      "metadata": {
        "id": "3Kre_H2PYKiH"
      },
      "source": [
        "def create_bias(name, inp, n_in, reg):\n",
        "    #x = Embedding(n_in, 1, input_length=1, embeddings_regularizer=l2(reg))(inp)\n",
        "    x = Embedding(n_in, 1, input_length=1, name=name)(inp)\n",
        "    return Flatten(name=name+'_flat')(x)"
      ],
      "execution_count": 42,
      "outputs": []
    },
    {
      "cell_type": "markdown",
      "metadata": {
        "id": "hNC1pbIdYKiH"
      },
      "source": [
        "and then another one to set us up an embedding layer..."
      ]
    },
    {
      "cell_type": "code",
      "metadata": {
        "id": "ldo9nyVMYKiI"
      },
      "source": [
        "def embedding_input(name, n_in, n_out, reg):\n",
        "    inp = Input(shape=(1,), dtype='int64', name=name)\n",
        "    return inp, Embedding(n_in, n_out, input_length=1, name=name.split('_')[0]+'_factor', embeddings_regularizer=l2(reg))(inp)"
      ],
      "execution_count": 43,
      "outputs": []
    },
    {
      "cell_type": "markdown",
      "metadata": {
        "id": "veJC0G_5YKiI"
      },
      "source": [
        "This function also returns input layers which we will use as placeholders for our inputs, which are the userids and movieids which are used as indexes into the embedding to get the latent factors for a particular user or movie."
      ]
    },
    {
      "cell_type": "markdown",
      "metadata": {
        "id": "Gu0DzUpSYKiI"
      },
      "source": [
        "Now we define our embeddings and biases..."
      ]
    },
    {
      "cell_type": "code",
      "metadata": {
        "id": "P2EWOqZtYKiJ"
      },
      "source": [
        "user_input, uLmat = embedding_input('user_input', nusers, L, REG)\n",
        "movie_input, mLmat = embedding_input('movie_input', nmovies, L, REG)"
      ],
      "execution_count": 109,
      "outputs": []
    },
    {
      "cell_type": "markdown",
      "metadata": {
        "id": "nA8ewdpeYKiJ"
      },
      "source": [
        "The user input is a placeholder for userids and ditto for the movie inputs..."
      ]
    },
    {
      "cell_type": "code",
      "metadata": {
        "id": "IThEgRKsYKiJ",
        "colab": {
          "base_uri": "https://localhost:8080/"
        },
        "outputId": "ac4ad707-1887-46cc-e01a-9e28e629acd4"
      },
      "source": [
        "user_input.shape, movie_input.shape"
      ],
      "execution_count": 45,
      "outputs": [
        {
          "output_type": "execute_result",
          "data": {
            "text/plain": [
              "(TensorShape([None, 1]), TensorShape([None, 1]))"
            ]
          },
          "metadata": {
            "tags": []
          },
          "execution_count": 45
        }
      ]
    },
    {
      "cell_type": "code",
      "metadata": {
        "id": "96hvKa2rYKiK",
        "colab": {
          "base_uri": "https://localhost:8080/"
        },
        "outputId": "f98a919a-28ba-46f3-e26b-92fdb869c09d"
      },
      "source": [
        "uLmat.shape, mLmat.shape"
      ],
      "execution_count": 46,
      "outputs": [
        {
          "output_type": "execute_result",
          "data": {
            "text/plain": [
              "(TensorShape([None, 1, 50]), TensorShape([None, 1, 50]))"
            ]
          },
          "metadata": {
            "tags": []
          },
          "execution_count": 46
        }
      ]
    },
    {
      "cell_type": "code",
      "metadata": {
        "id": "kLH7pZ0HYKiK"
      },
      "source": [
        "user_bias = create_bias('user_bias', user_input, nusers, REG)\n",
        "movie_bias = create_bias('movie_bias', movie_input, nmovies, REG)"
      ],
      "execution_count": 47,
      "outputs": []
    },
    {
      "cell_type": "code",
      "metadata": {
        "id": "TrYpGXfqYKiL",
        "colab": {
          "base_uri": "https://localhost:8080/"
        },
        "outputId": "7e782fac-bfc6-4b19-f9c8-a8a532f85271"
      },
      "source": [
        "user_bias.shape, movie_bias.shape"
      ],
      "execution_count": 48,
      "outputs": [
        {
          "output_type": "execute_result",
          "data": {
            "text/plain": [
              "(TensorShape([None, 1]), TensorShape([None, 1]))"
            ]
          },
          "metadata": {
            "tags": []
          },
          "execution_count": 48
        }
      ]
    },
    {
      "cell_type": "markdown",
      "metadata": {
        "id": "L6czpUlyYKiL"
      },
      "source": [
        "The embeddings are matrix multiplied together (dot producted together) to get the residual matrix, which is then flattened."
      ]
    },
    {
      "cell_type": "code",
      "metadata": {
        "id": "WKvpFUfqYKiL"
      },
      "source": [
        "residual = Dot(axes=2, name=\"residual\")([uLmat, mLmat])"
      ],
      "execution_count": 50,
      "outputs": []
    },
    {
      "cell_type": "code",
      "metadata": {
        "id": "XKkml2hbYKiM",
        "colab": {
          "base_uri": "https://localhost:8080/"
        },
        "outputId": "7e413aa8-8d6f-48c5-c35e-0d57d60f5b2f"
      },
      "source": [
        "residual.shape"
      ],
      "execution_count": 51,
      "outputs": [
        {
          "output_type": "execute_result",
          "data": {
            "text/plain": [
              "TensorShape([None, 1, 1])"
            ]
          },
          "metadata": {
            "tags": []
          },
          "execution_count": 51
        }
      ]
    },
    {
      "cell_type": "code",
      "metadata": {
        "id": "DpWnT4SVYKiM",
        "colab": {
          "base_uri": "https://localhost:8080/"
        },
        "outputId": "e6cdf41b-2524-4bab-9d74-a9e907e0d939"
      },
      "source": [
        "residflat = Flatten(name=\"residual_flat\")(residual)\n",
        "residflat.shape"
      ],
      "execution_count": 52,
      "outputs": [
        {
          "output_type": "execute_result",
          "data": {
            "text/plain": [
              "TensorShape([None, 1])"
            ]
          },
          "metadata": {
            "tags": []
          },
          "execution_count": 52
        }
      ]
    },
    {
      "cell_type": "markdown",
      "metadata": {
        "id": "ZSyQIrVbYKiN"
      },
      "source": [
        "We add the flattened residual and the biases into the linear regression.."
      ]
    },
    {
      "cell_type": "code",
      "metadata": {
        "id": "y0iz8ZTMYKiN"
      },
      "source": [
        "regression = Add(name=\"regression\")([user_bias, movie_bias, residflat]) #why?"
      ],
      "execution_count": 53,
      "outputs": []
    },
    {
      "cell_type": "code",
      "metadata": {
        "id": "5aEvO3udYKiN",
        "colab": {
          "base_uri": "https://localhost:8080/"
        },
        "outputId": "f0a1657a-fe14-4ea3-ec73-cf84d906c022"
      },
      "source": [
        "regression.shape"
      ],
      "execution_count": 54,
      "outputs": [
        {
          "output_type": "execute_result",
          "data": {
            "text/plain": [
              "TensorShape([None, 1])"
            ]
          },
          "metadata": {
            "tags": []
          },
          "execution_count": 54
        }
      ]
    },
    {
      "cell_type": "markdown",
      "metadata": {
        "id": "af4KKkrHYKiN"
      },
      "source": [
        "..and then put a custom sigmoid activation to limit things between 0 and 5.5..we dont want our linear regression to go all over the place..."
      ]
    },
    {
      "cell_type": "code",
      "metadata": {
        "id": "bMmRwv_bYKiO"
      },
      "source": [
        "from tensorflow.keras.layers import Activation\n",
        "from tensorflow.keras import backend as K"
      ],
      "execution_count": 55,
      "outputs": []
    },
    {
      "cell_type": "code",
      "metadata": {
        "id": "JzcSahLNYKiO"
      },
      "source": [
        "def sigmoid_maker(low, high):\n",
        "    def custom_sigmoid(x):\n",
        "        return K.sigmoid(x)*(high - low) + low #within range\n",
        "    return custom_sigmoid"
      ],
      "execution_count": 56,
      "outputs": []
    },
    {
      "cell_type": "code",
      "metadata": {
        "id": "J1mobh2HYKiP"
      },
      "source": [
        "cs = sigmoid_maker(0, 5.5)"
      ],
      "execution_count": 57,
      "outputs": []
    },
    {
      "cell_type": "code",
      "metadata": {
        "id": "j15Lpv3PYKiP"
      },
      "source": [
        "output = Activation(cs, name=\"Sigmoid_Range\")(regression)"
      ],
      "execution_count": 58,
      "outputs": []
    },
    {
      "cell_type": "markdown",
      "metadata": {
        "id": "JmMh6jA0YKiP"
      },
      "source": [
        "Now we set up the model with the userids and movieds as input, and the output of the sigmoid as output..and ask Keras for a summary..compiling it with Adam and a learning rate of 0.001."
      ]
    },
    {
      "cell_type": "code",
      "metadata": {
        "id": "peVLpNSmYKiP"
      },
      "source": [
        "model = Model([user_input, movie_input], output)\n",
        "model.compile(Adam(0.001), loss='mse')"
      ],
      "execution_count": 59,
      "outputs": []
    },
    {
      "cell_type": "code",
      "metadata": {
        "id": "SnV_S08HYKiQ",
        "colab": {
          "base_uri": "https://localhost:8080/"
        },
        "outputId": "e5e36d43-df91-419b-8698-4c35ce431776"
      },
      "source": [
        "model.summary()"
      ],
      "execution_count": 60,
      "outputs": [
        {
          "output_type": "stream",
          "text": [
            "Model: \"model\"\n",
            "__________________________________________________________________________________________________\n",
            "Layer (type)                    Output Shape         Param #     Connected to                     \n",
            "==================================================================================================\n",
            "user_input (InputLayer)         [(None, 1)]          0                                            \n",
            "__________________________________________________________________________________________________\n",
            "movie_input (InputLayer)        [(None, 1)]          0                                            \n",
            "__________________________________________________________________________________________________\n",
            "user_factor (Embedding)         (None, 1, 50)        30500       user_input[0][0]                 \n",
            "__________________________________________________________________________________________________\n",
            "movie_factor (Embedding)        (None, 1, 50)        486200      movie_input[0][0]                \n",
            "__________________________________________________________________________________________________\n",
            "user_bias (Embedding)           (None, 1, 1)         610         user_input[0][0]                 \n",
            "__________________________________________________________________________________________________\n",
            "movie_bias (Embedding)          (None, 1, 1)         9724        movie_input[0][0]                \n",
            "__________________________________________________________________________________________________\n",
            "residual (Dot)                  (None, 1, 1)         0           user_factor[0][0]                \n",
            "                                                                 movie_factor[0][0]               \n",
            "__________________________________________________________________________________________________\n",
            "user_bias_flat (Flatten)        (None, 1)            0           user_bias[0][0]                  \n",
            "__________________________________________________________________________________________________\n",
            "movie_bias_flat (Flatten)       (None, 1)            0           movie_bias[0][0]                 \n",
            "__________________________________________________________________________________________________\n",
            "residual_flat (Flatten)         (None, 1)            0           residual[0][0]                   \n",
            "__________________________________________________________________________________________________\n",
            "regression (Add)                (None, 1)            0           user_bias_flat[0][0]             \n",
            "                                                                 movie_bias_flat[0][0]            \n",
            "                                                                 residual_flat[0][0]              \n",
            "__________________________________________________________________________________________________\n",
            "Sigmoid_Range (Activation)      (None, 1)            0           regression[0][0]                 \n",
            "==================================================================================================\n",
            "Total params: 527,034\n",
            "Trainable params: 527,034\n",
            "Non-trainable params: 0\n",
            "__________________________________________________________________________________________________\n"
          ],
          "name": "stdout"
        }
      ]
    },
    {
      "cell_type": "code",
      "metadata": {
        "id": "1X5t5yD5YKiQ"
      },
      "source": [
        "import pydot"
      ],
      "execution_count": 61,
      "outputs": []
    },
    {
      "cell_type": "code",
      "metadata": {
        "id": "oPA1KTmfYKiQ"
      },
      "source": [
        "from tensorflow.keras.utils import model_to_dot"
      ],
      "execution_count": 62,
      "outputs": []
    },
    {
      "cell_type": "code",
      "metadata": {
        "id": "SVs0b1R2YKiR",
        "colab": {
          "base_uri": "https://localhost:8080/",
          "height": 668
        },
        "outputId": "89095ebb-0575-449b-e7c0-a1ec0595a5ad"
      },
      "source": [
        "from IPython.display import SVG\n",
        "SVG(model_to_dot(model,  show_shapes=True, show_layer_names=True, dpi=72, rankdir='TB').create_svg())"
      ],
      "execution_count": 63,
      "outputs": [
        {
          "output_type": "execute_result",
          "data": {
            "text/plain": [
              "<IPython.core.display.SVG object>"
            ],
            "image/svg+xml": "<svg height=\"470pt\" viewBox=\"0.00 0.00 986.50 470.00\" width=\"987pt\" xmlns=\"http://www.w3.org/2000/svg\" xmlns:xlink=\"http://www.w3.org/1999/xlink\">\n<g class=\"graph\" id=\"graph0\" transform=\"scale(1 1) rotate(0) translate(4 466)\">\n<title>G</title>\n<polygon fill=\"#ffffff\" points=\"-4,4 -4,-466 982.5,-466 982.5,4 -4,4\" stroke=\"transparent\"/>\n<!-- 139790728116992 -->\n<g class=\"node\" id=\"node1\">\n<title>139790728116992</title>\n<polygon fill=\"none\" points=\"76,-415.5 76,-461.5 364,-461.5 364,-415.5 76,-415.5\" stroke=\"#000000\"/>\n<text fill=\"#000000\" font-family=\"Times,serif\" font-size=\"14.00\" text-anchor=\"middle\" x=\"150.5\" y=\"-434.8\">user_input: InputLayer</text>\n<polyline fill=\"none\" points=\"225,-415.5 225,-461.5 \" stroke=\"#000000\"/>\n<text fill=\"#000000\" font-family=\"Times,serif\" font-size=\"14.00\" text-anchor=\"middle\" x=\"254\" y=\"-446.3\">input:</text>\n<polyline fill=\"none\" points=\"225,-438.5 283,-438.5 \" stroke=\"#000000\"/>\n<text fill=\"#000000\" font-family=\"Times,serif\" font-size=\"14.00\" text-anchor=\"middle\" x=\"254\" y=\"-423.3\">output:</text>\n<polyline fill=\"none\" points=\"283,-415.5 283,-461.5 \" stroke=\"#000000\"/>\n<text fill=\"#000000\" font-family=\"Times,serif\" font-size=\"14.00\" text-anchor=\"middle\" x=\"323.5\" y=\"-446.3\">[(None, 1)]</text>\n<polyline fill=\"none\" points=\"283,-438.5 364,-438.5 \" stroke=\"#000000\"/>\n<text fill=\"#000000\" font-family=\"Times,serif\" font-size=\"14.00\" text-anchor=\"middle\" x=\"323.5\" y=\"-423.3\">[(None, 1)]</text>\n</g>\n<!-- 139790742951136 -->\n<g class=\"node\" id=\"node3\">\n<title>139790742951136</title>\n<polygon fill=\"none\" points=\"157,-332.5 157,-378.5 465,-378.5 465,-332.5 157,-332.5\" stroke=\"#000000\"/>\n<text fill=\"#000000\" font-family=\"Times,serif\" font-size=\"14.00\" text-anchor=\"middle\" x=\"234.5\" y=\"-351.8\">user_factor: Embedding</text>\n<polyline fill=\"none\" points=\"312,-332.5 312,-378.5 \" stroke=\"#000000\"/>\n<text fill=\"#000000\" font-family=\"Times,serif\" font-size=\"14.00\" text-anchor=\"middle\" x=\"341\" y=\"-363.3\">input:</text>\n<polyline fill=\"none\" points=\"312,-355.5 370,-355.5 \" stroke=\"#000000\"/>\n<text fill=\"#000000\" font-family=\"Times,serif\" font-size=\"14.00\" text-anchor=\"middle\" x=\"341\" y=\"-340.3\">output:</text>\n<polyline fill=\"none\" points=\"370,-332.5 370,-378.5 \" stroke=\"#000000\"/>\n<text fill=\"#000000\" font-family=\"Times,serif\" font-size=\"14.00\" text-anchor=\"middle\" x=\"417.5\" y=\"-363.3\">(None, 1)</text>\n<polyline fill=\"none\" points=\"370,-355.5 465,-355.5 \" stroke=\"#000000\"/>\n<text fill=\"#000000\" font-family=\"Times,serif\" font-size=\"14.00\" text-anchor=\"middle\" x=\"417.5\" y=\"-340.3\">(None, 1, 50)</text>\n</g>\n<!-- 139790728116992&#45;&gt;139790742951136 -->\n<g class=\"edge\" id=\"edge1\">\n<title>139790728116992-&gt;139790742951136</title>\n<path d=\"M245.3486,-415.3799C255.4204,-406.1935 267.1431,-395.5013 277.8725,-385.7152\" fill=\"none\" stroke=\"#000000\"/>\n<polygon fill=\"#000000\" points=\"280.442,-388.1088 285.4718,-378.784 275.7248,-382.9369 280.442,-388.1088\" stroke=\"#000000\"/>\n</g>\n<!-- 139790722114392 -->\n<g class=\"node\" id=\"node5\">\n<title>139790722114392</title>\n<polygon fill=\"none\" points=\"0,-249.5 0,-295.5 290,-295.5 290,-249.5 0,-249.5\" stroke=\"#000000\"/>\n<text fill=\"#000000\" font-family=\"Times,serif\" font-size=\"14.00\" text-anchor=\"middle\" x=\"72.5\" y=\"-268.8\">user_bias: Embedding</text>\n<polyline fill=\"none\" points=\"145,-249.5 145,-295.5 \" stroke=\"#000000\"/>\n<text fill=\"#000000\" font-family=\"Times,serif\" font-size=\"14.00\" text-anchor=\"middle\" x=\"174\" y=\"-280.3\">input:</text>\n<polyline fill=\"none\" points=\"145,-272.5 203,-272.5 \" stroke=\"#000000\"/>\n<text fill=\"#000000\" font-family=\"Times,serif\" font-size=\"14.00\" text-anchor=\"middle\" x=\"174\" y=\"-257.3\">output:</text>\n<polyline fill=\"none\" points=\"203,-249.5 203,-295.5 \" stroke=\"#000000\"/>\n<text fill=\"#000000\" font-family=\"Times,serif\" font-size=\"14.00\" text-anchor=\"middle\" x=\"246.5\" y=\"-280.3\">(None, 1)</text>\n<polyline fill=\"none\" points=\"203,-272.5 290,-272.5 \" stroke=\"#000000\"/>\n<text fill=\"#000000\" font-family=\"Times,serif\" font-size=\"14.00\" text-anchor=\"middle\" x=\"246.5\" y=\"-257.3\">(None, 1, 1)</text>\n</g>\n<!-- 139790728116992&#45;&gt;139790722114392 -->\n<g class=\"edge\" id=\"edge3\">\n<title>139790728116992-&gt;139790722114392</title>\n<path d=\"M180.3012,-415.3775C167.6567,-405.8387 155.1141,-393.5721 148,-379 136.9816,-356.4307 136.8074,-327.8422 139.0738,-305.9688\" fill=\"none\" stroke=\"#000000\"/>\n<polygon fill=\"#000000\" points=\"142.5741,-306.1839 140.3455,-295.8261 135.6285,-305.313 142.5741,-306.1839\" stroke=\"#000000\"/>\n</g>\n<!-- 139790722615280 -->\n<g class=\"node\" id=\"node2\">\n<title>139790722615280</title>\n<polygon fill=\"none\" points=\"587,-415.5 587,-461.5 887,-461.5 887,-415.5 587,-415.5\" stroke=\"#000000\"/>\n<text fill=\"#000000\" font-family=\"Times,serif\" font-size=\"14.00\" text-anchor=\"middle\" x=\"667.5\" y=\"-434.8\">movie_input: InputLayer</text>\n<polyline fill=\"none\" points=\"748,-415.5 748,-461.5 \" stroke=\"#000000\"/>\n<text fill=\"#000000\" font-family=\"Times,serif\" font-size=\"14.00\" text-anchor=\"middle\" x=\"777\" y=\"-446.3\">input:</text>\n<polyline fill=\"none\" points=\"748,-438.5 806,-438.5 \" stroke=\"#000000\"/>\n<text fill=\"#000000\" font-family=\"Times,serif\" font-size=\"14.00\" text-anchor=\"middle\" x=\"777\" y=\"-423.3\">output:</text>\n<polyline fill=\"none\" points=\"806,-415.5 806,-461.5 \" stroke=\"#000000\"/>\n<text fill=\"#000000\" font-family=\"Times,serif\" font-size=\"14.00\" text-anchor=\"middle\" x=\"846.5\" y=\"-446.3\">[(None, 1)]</text>\n<polyline fill=\"none\" points=\"806,-438.5 887,-438.5 \" stroke=\"#000000\"/>\n<text fill=\"#000000\" font-family=\"Times,serif\" font-size=\"14.00\" text-anchor=\"middle\" x=\"846.5\" y=\"-423.3\">[(None, 1)]</text>\n</g>\n<!-- 139790722108328 -->\n<g class=\"node\" id=\"node4\">\n<title>139790722108328</title>\n<polygon fill=\"none\" points=\"483,-332.5 483,-378.5 803,-378.5 803,-332.5 483,-332.5\" stroke=\"#000000\"/>\n<text fill=\"#000000\" font-family=\"Times,serif\" font-size=\"14.00\" text-anchor=\"middle\" x=\"566.5\" y=\"-351.8\">movie_factor: Embedding</text>\n<polyline fill=\"none\" points=\"650,-332.5 650,-378.5 \" stroke=\"#000000\"/>\n<text fill=\"#000000\" font-family=\"Times,serif\" font-size=\"14.00\" text-anchor=\"middle\" x=\"679\" y=\"-363.3\">input:</text>\n<polyline fill=\"none\" points=\"650,-355.5 708,-355.5 \" stroke=\"#000000\"/>\n<text fill=\"#000000\" font-family=\"Times,serif\" font-size=\"14.00\" text-anchor=\"middle\" x=\"679\" y=\"-340.3\">output:</text>\n<polyline fill=\"none\" points=\"708,-332.5 708,-378.5 \" stroke=\"#000000\"/>\n<text fill=\"#000000\" font-family=\"Times,serif\" font-size=\"14.00\" text-anchor=\"middle\" x=\"755.5\" y=\"-363.3\">(None, 1)</text>\n<polyline fill=\"none\" points=\"708,-355.5 803,-355.5 \" stroke=\"#000000\"/>\n<text fill=\"#000000\" font-family=\"Times,serif\" font-size=\"14.00\" text-anchor=\"middle\" x=\"755.5\" y=\"-340.3\">(None, 1, 50)</text>\n</g>\n<!-- 139790722615280&#45;&gt;139790722108328 -->\n<g class=\"edge\" id=\"edge2\">\n<title>139790722615280-&gt;139790722108328</title>\n<path d=\"M710.8158,-415.3799C700.3109,-406.1043 688.0674,-395.2936 676.8971,-385.4304\" fill=\"none\" stroke=\"#000000\"/>\n<polygon fill=\"#000000\" points=\"679.1825,-382.7793 669.3698,-378.784 674.5493,-388.0265 679.1825,-382.7793\" stroke=\"#000000\"/>\n</g>\n<!-- 139790722117360 -->\n<g class=\"node\" id=\"node6\">\n<title>139790722117360</title>\n<polygon fill=\"none\" points=\"675.5,-249.5 675.5,-295.5 978.5,-295.5 978.5,-249.5 675.5,-249.5\" stroke=\"#000000\"/>\n<text fill=\"#000000\" font-family=\"Times,serif\" font-size=\"14.00\" text-anchor=\"middle\" x=\"754.5\" y=\"-268.8\">movie_bias: Embedding</text>\n<polyline fill=\"none\" points=\"833.5,-249.5 833.5,-295.5 \" stroke=\"#000000\"/>\n<text fill=\"#000000\" font-family=\"Times,serif\" font-size=\"14.00\" text-anchor=\"middle\" x=\"862.5\" y=\"-280.3\">input:</text>\n<polyline fill=\"none\" points=\"833.5,-272.5 891.5,-272.5 \" stroke=\"#000000\"/>\n<text fill=\"#000000\" font-family=\"Times,serif\" font-size=\"14.00\" text-anchor=\"middle\" x=\"862.5\" y=\"-257.3\">output:</text>\n<polyline fill=\"none\" points=\"891.5,-249.5 891.5,-295.5 \" stroke=\"#000000\"/>\n<text fill=\"#000000\" font-family=\"Times,serif\" font-size=\"14.00\" text-anchor=\"middle\" x=\"935\" y=\"-280.3\">(None, 1)</text>\n<polyline fill=\"none\" points=\"891.5,-272.5 978.5,-272.5 \" stroke=\"#000000\"/>\n<text fill=\"#000000\" font-family=\"Times,serif\" font-size=\"14.00\" text-anchor=\"middle\" x=\"935\" y=\"-257.3\">(None, 1, 1)</text>\n</g>\n<!-- 139790722615280&#45;&gt;139790722117360 -->\n<g class=\"edge\" id=\"edge4\">\n<title>139790722615280-&gt;139790722117360</title>\n<path d=\"M777.0154,-415.4978C790.2248,-405.9021 803.6585,-393.5678 812,-379 824.6779,-356.8591 828.0954,-328.0128 828.5263,-305.9268\" fill=\"none\" stroke=\"#000000\"/>\n<polygon fill=\"#000000\" points=\"832.0264,-305.6864 828.5254,-295.6867 825.0264,-305.6871 832.0264,-305.6864\" stroke=\"#000000\"/>\n</g>\n<!-- 139790722615784 -->\n<g class=\"node\" id=\"node7\">\n<title>139790722615784</title>\n<polygon fill=\"none\" points=\"316.5,-249.5 316.5,-295.5 653.5,-295.5 653.5,-249.5 316.5,-249.5\" stroke=\"#000000\"/>\n<text fill=\"#000000\" font-family=\"Times,serif\" font-size=\"14.00\" text-anchor=\"middle\" x=\"361.5\" y=\"-268.8\">residual: Dot</text>\n<polyline fill=\"none\" points=\"406.5,-249.5 406.5,-295.5 \" stroke=\"#000000\"/>\n<text fill=\"#000000\" font-family=\"Times,serif\" font-size=\"14.00\" text-anchor=\"middle\" x=\"435.5\" y=\"-280.3\">input:</text>\n<polyline fill=\"none\" points=\"406.5,-272.5 464.5,-272.5 \" stroke=\"#000000\"/>\n<text fill=\"#000000\" font-family=\"Times,serif\" font-size=\"14.00\" text-anchor=\"middle\" x=\"435.5\" y=\"-257.3\">output:</text>\n<polyline fill=\"none\" points=\"464.5,-249.5 464.5,-295.5 \" stroke=\"#000000\"/>\n<text fill=\"#000000\" font-family=\"Times,serif\" font-size=\"14.00\" text-anchor=\"middle\" x=\"559\" y=\"-280.3\">[(None, 1, 50), (None, 1, 50)]</text>\n<polyline fill=\"none\" points=\"464.5,-272.5 653.5,-272.5 \" stroke=\"#000000\"/>\n<text fill=\"#000000\" font-family=\"Times,serif\" font-size=\"14.00\" text-anchor=\"middle\" x=\"559\" y=\"-257.3\">(None, 1, 1)</text>\n</g>\n<!-- 139790742951136&#45;&gt;139790722615784 -->\n<g class=\"edge\" id=\"edge5\">\n<title>139790742951136-&gt;139790722615784</title>\n<path d=\"M359.4687,-332.3799C380.4977,-322.3488 405.2905,-310.5224 427.2642,-300.0406\" fill=\"none\" stroke=\"#000000\"/>\n<polygon fill=\"#000000\" points=\"428.9709,-303.1044 436.4897,-295.6399 425.9571,-296.7864 428.9709,-303.1044\" stroke=\"#000000\"/>\n</g>\n<!-- 139790722108328&#45;&gt;139790722615784 -->\n<g class=\"edge\" id=\"edge6\">\n<title>139790722108328-&gt;139790722615784</title>\n<path d=\"M598.9882,-332.3799C580.0634,-322.4384 557.7816,-310.7334 537.9618,-300.3217\" fill=\"none\" stroke=\"#000000\"/>\n<polygon fill=\"#000000\" points=\"539.5301,-297.192 529.0495,-295.6399 536.2747,-303.389 539.5301,-297.192\" stroke=\"#000000\"/>\n</g>\n<!-- 139790722116352 -->\n<g class=\"node\" id=\"node8\">\n<title>139790722116352</title>\n<polygon fill=\"none\" points=\"21.5,-166.5 21.5,-212.5 308.5,-212.5 308.5,-166.5 21.5,-166.5\" stroke=\"#000000\"/>\n<text fill=\"#000000\" font-family=\"Times,serif\" font-size=\"14.00\" text-anchor=\"middle\" x=\"92.5\" y=\"-185.8\">user_bias_flat: Flatten</text>\n<polyline fill=\"none\" points=\"163.5,-166.5 163.5,-212.5 \" stroke=\"#000000\"/>\n<text fill=\"#000000\" font-family=\"Times,serif\" font-size=\"14.00\" text-anchor=\"middle\" x=\"192.5\" y=\"-197.3\">input:</text>\n<polyline fill=\"none\" points=\"163.5,-189.5 221.5,-189.5 \" stroke=\"#000000\"/>\n<text fill=\"#000000\" font-family=\"Times,serif\" font-size=\"14.00\" text-anchor=\"middle\" x=\"192.5\" y=\"-174.3\">output:</text>\n<polyline fill=\"none\" points=\"221.5,-166.5 221.5,-212.5 \" stroke=\"#000000\"/>\n<text fill=\"#000000\" font-family=\"Times,serif\" font-size=\"14.00\" text-anchor=\"middle\" x=\"265\" y=\"-197.3\">(None, 1, 1)</text>\n<polyline fill=\"none\" points=\"221.5,-189.5 308.5,-189.5 \" stroke=\"#000000\"/>\n<text fill=\"#000000\" font-family=\"Times,serif\" font-size=\"14.00\" text-anchor=\"middle\" x=\"265\" y=\"-174.3\">(None, 1)</text>\n</g>\n<!-- 139790722114392&#45;&gt;139790722116352 -->\n<g class=\"edge\" id=\"edge7\">\n<title>139790722114392-&gt;139790722116352</title>\n<path d=\"M150.5711,-249.3799C152.5698,-241.0854 154.8643,-231.5633 157.0268,-222.5889\" fill=\"none\" stroke=\"#000000\"/>\n<polygon fill=\"#000000\" points=\"160.4493,-223.3257 159.3894,-212.784 153.6441,-221.6858 160.4493,-223.3257\" stroke=\"#000000\"/>\n</g>\n<!-- 139789834009120 -->\n<g class=\"node\" id=\"node9\">\n<title>139789834009120</title>\n<polygon fill=\"none\" points=\"659,-166.5 659,-212.5 959,-212.5 959,-166.5 659,-166.5\" stroke=\"#000000\"/>\n<text fill=\"#000000\" font-family=\"Times,serif\" font-size=\"14.00\" text-anchor=\"middle\" x=\"736.5\" y=\"-185.8\">movie_bias_flat: Flatten</text>\n<polyline fill=\"none\" points=\"814,-166.5 814,-212.5 \" stroke=\"#000000\"/>\n<text fill=\"#000000\" font-family=\"Times,serif\" font-size=\"14.00\" text-anchor=\"middle\" x=\"843\" y=\"-197.3\">input:</text>\n<polyline fill=\"none\" points=\"814,-189.5 872,-189.5 \" stroke=\"#000000\"/>\n<text fill=\"#000000\" font-family=\"Times,serif\" font-size=\"14.00\" text-anchor=\"middle\" x=\"843\" y=\"-174.3\">output:</text>\n<polyline fill=\"none\" points=\"872,-166.5 872,-212.5 \" stroke=\"#000000\"/>\n<text fill=\"#000000\" font-family=\"Times,serif\" font-size=\"14.00\" text-anchor=\"middle\" x=\"915.5\" y=\"-197.3\">(None, 1, 1)</text>\n<polyline fill=\"none\" points=\"872,-189.5 959,-189.5 \" stroke=\"#000000\"/>\n<text fill=\"#000000\" font-family=\"Times,serif\" font-size=\"14.00\" text-anchor=\"middle\" x=\"915.5\" y=\"-174.3\">(None, 1)</text>\n</g>\n<!-- 139790722117360&#45;&gt;139789834009120 -->\n<g class=\"edge\" id=\"edge8\">\n<title>139790722117360-&gt;139789834009120</title>\n<path d=\"M821.986,-249.3799C820.1872,-241.0854 818.1222,-231.5633 816.1759,-222.5889\" fill=\"none\" stroke=\"#000000\"/>\n<polygon fill=\"#000000\" points=\"819.5895,-221.815 814.0495,-212.784 812.7485,-223.2987 819.5895,-221.815\" stroke=\"#000000\"/>\n</g>\n<!-- 139790722114336 -->\n<g class=\"node\" id=\"node10\">\n<title>139790722114336</title>\n<polygon fill=\"none\" points=\"346,-166.5 346,-212.5 624,-212.5 624,-166.5 346,-166.5\" stroke=\"#000000\"/>\n<text fill=\"#000000\" font-family=\"Times,serif\" font-size=\"14.00\" text-anchor=\"middle\" x=\"412.5\" y=\"-185.8\">residual_flat: Flatten</text>\n<polyline fill=\"none\" points=\"479,-166.5 479,-212.5 \" stroke=\"#000000\"/>\n<text fill=\"#000000\" font-family=\"Times,serif\" font-size=\"14.00\" text-anchor=\"middle\" x=\"508\" y=\"-197.3\">input:</text>\n<polyline fill=\"none\" points=\"479,-189.5 537,-189.5 \" stroke=\"#000000\"/>\n<text fill=\"#000000\" font-family=\"Times,serif\" font-size=\"14.00\" text-anchor=\"middle\" x=\"508\" y=\"-174.3\">output:</text>\n<polyline fill=\"none\" points=\"537,-166.5 537,-212.5 \" stroke=\"#000000\"/>\n<text fill=\"#000000\" font-family=\"Times,serif\" font-size=\"14.00\" text-anchor=\"middle\" x=\"580.5\" y=\"-197.3\">(None, 1, 1)</text>\n<polyline fill=\"none\" points=\"537,-189.5 624,-189.5 \" stroke=\"#000000\"/>\n<text fill=\"#000000\" font-family=\"Times,serif\" font-size=\"14.00\" text-anchor=\"middle\" x=\"580.5\" y=\"-174.3\">(None, 1)</text>\n</g>\n<!-- 139790722615784&#45;&gt;139790722114336 -->\n<g class=\"edge\" id=\"edge9\">\n<title>139790722615784-&gt;139790722114336</title>\n<path d=\"M485,-249.3799C485,-241.1745 485,-231.7679 485,-222.8786\" fill=\"none\" stroke=\"#000000\"/>\n<polygon fill=\"#000000\" points=\"488.5001,-222.784 485,-212.784 481.5001,-222.784 488.5001,-222.784\" stroke=\"#000000\"/>\n</g>\n<!-- 139789834074152 -->\n<g class=\"node\" id=\"node11\">\n<title>139789834074152</title>\n<polygon fill=\"none\" points=\"299,-83.5 299,-129.5 671,-129.5 671,-83.5 299,-83.5\" stroke=\"#000000\"/>\n<text fill=\"#000000\" font-family=\"Times,serif\" font-size=\"14.00\" text-anchor=\"middle\" x=\"352.5\" y=\"-102.8\">regression: Add</text>\n<polyline fill=\"none\" points=\"406,-83.5 406,-129.5 \" stroke=\"#000000\"/>\n<text fill=\"#000000\" font-family=\"Times,serif\" font-size=\"14.00\" text-anchor=\"middle\" x=\"435\" y=\"-114.3\">input:</text>\n<polyline fill=\"none\" points=\"406,-106.5 464,-106.5 \" stroke=\"#000000\"/>\n<text fill=\"#000000\" font-family=\"Times,serif\" font-size=\"14.00\" text-anchor=\"middle\" x=\"435\" y=\"-91.3\">output:</text>\n<polyline fill=\"none\" points=\"464,-83.5 464,-129.5 \" stroke=\"#000000\"/>\n<text fill=\"#000000\" font-family=\"Times,serif\" font-size=\"14.00\" text-anchor=\"middle\" x=\"567.5\" y=\"-114.3\">[(None, 1), (None, 1), (None, 1)]</text>\n<polyline fill=\"none\" points=\"464,-106.5 671,-106.5 \" stroke=\"#000000\"/>\n<text fill=\"#000000\" font-family=\"Times,serif\" font-size=\"14.00\" text-anchor=\"middle\" x=\"567.5\" y=\"-91.3\">(None, 1)</text>\n</g>\n<!-- 139790722116352&#45;&gt;139789834074152 -->\n<g class=\"edge\" id=\"edge10\">\n<title>139790722116352-&gt;139789834074152</title>\n<path d=\"M253.7129,-166.4901C294.8966,-155.8081 344.001,-143.0716 386.3485,-132.0877\" fill=\"none\" stroke=\"#000000\"/>\n<polygon fill=\"#000000\" points=\"387.3136,-135.4533 396.1145,-129.5547 385.5561,-128.6775 387.3136,-135.4533\" stroke=\"#000000\"/>\n</g>\n<!-- 139789834009120&#45;&gt;139789834074152 -->\n<g class=\"edge\" id=\"edge11\">\n<title>139789834009120-&gt;139789834074152</title>\n<path d=\"M719.1782,-166.4901C677.4797,-155.8081 627.7615,-143.0716 584.8846,-132.0877\" fill=\"none\" stroke=\"#000000\"/>\n<polygon fill=\"#000000\" points=\"585.5523,-128.6458 574.9965,-129.5547 583.8151,-135.4269 585.5523,-128.6458\" stroke=\"#000000\"/>\n</g>\n<!-- 139790722114336&#45;&gt;139789834074152 -->\n<g class=\"edge\" id=\"edge12\">\n<title>139790722114336-&gt;139789834074152</title>\n<path d=\"M485,-166.3799C485,-158.1745 485,-148.7679 485,-139.8786\" fill=\"none\" stroke=\"#000000\"/>\n<polygon fill=\"#000000\" points=\"488.5001,-139.784 485,-129.784 481.5001,-139.784 488.5001,-139.784\" stroke=\"#000000\"/>\n</g>\n<!-- 139789833766280 -->\n<g class=\"node\" id=\"node12\">\n<title>139789833766280</title>\n<polygon fill=\"none\" points=\"331.5,-.5 331.5,-46.5 638.5,-46.5 638.5,-.5 331.5,-.5\" stroke=\"#000000\"/>\n<text fill=\"#000000\" font-family=\"Times,serif\" font-size=\"14.00\" text-anchor=\"middle\" x=\"420\" y=\"-19.8\">Sigmoid_Range: Activation</text>\n<polyline fill=\"none\" points=\"508.5,-.5 508.5,-46.5 \" stroke=\"#000000\"/>\n<text fill=\"#000000\" font-family=\"Times,serif\" font-size=\"14.00\" text-anchor=\"middle\" x=\"537.5\" y=\"-31.3\">input:</text>\n<polyline fill=\"none\" points=\"508.5,-23.5 566.5,-23.5 \" stroke=\"#000000\"/>\n<text fill=\"#000000\" font-family=\"Times,serif\" font-size=\"14.00\" text-anchor=\"middle\" x=\"537.5\" y=\"-8.3\">output:</text>\n<polyline fill=\"none\" points=\"566.5,-.5 566.5,-46.5 \" stroke=\"#000000\"/>\n<text fill=\"#000000\" font-family=\"Times,serif\" font-size=\"14.00\" text-anchor=\"middle\" x=\"602.5\" y=\"-31.3\">(None, 1)</text>\n<polyline fill=\"none\" points=\"566.5,-23.5 638.5,-23.5 \" stroke=\"#000000\"/>\n<text fill=\"#000000\" font-family=\"Times,serif\" font-size=\"14.00\" text-anchor=\"middle\" x=\"602.5\" y=\"-8.3\">(None, 1)</text>\n</g>\n<!-- 139789834074152&#45;&gt;139789833766280 -->\n<g class=\"edge\" id=\"edge13\">\n<title>139789834074152-&gt;139789833766280</title>\n<path d=\"M485,-83.3799C485,-75.1745 485,-65.7679 485,-56.8786\" fill=\"none\" stroke=\"#000000\"/>\n<polygon fill=\"#000000\" points=\"488.5001,-56.784 485,-46.784 481.5001,-56.784 488.5001,-56.784\" stroke=\"#000000\"/>\n</g>\n</g>\n</svg>"
          },
          "metadata": {
            "tags": []
          },
          "execution_count": 63
        }
      ]
    },
    {
      "cell_type": "markdown",
      "metadata": {
        "id": "1hEF1MglYKiR"
      },
      "source": [
        "## Training the model\n",
        "\n",
        "We start slow with a learning rate of 0.001, then speed up to 0.01 and then slow back down so that we dont overshoot into having our validation loss climb back up..because then we would be overfitting..."
      ]
    },
    {
      "cell_type": "code",
      "metadata": {
        "id": "AxxHnyzsqE6U"
      },
      "source": [
        "#your code here\n",
        "histdict={}\n",
        "lr=[0.001,0.01, 0.002]"
      ],
      "execution_count": 64,
      "outputs": []
    },
    {
      "cell_type": "code",
      "metadata": {
        "id": "f1-i7noIYKiS",
        "colab": {
          "base_uri": "https://localhost:8080/"
        },
        "outputId": "4180a795-b98b-4540-bd5c-9c214bd03d7a"
      },
      "source": [
        "#your code here\n",
        "model.optimizer.lr = lr[0]\n",
        "histdict[0] = model.fit([trdf.userId,trdf.movieId],trdf.rating, epochs=4, batch_size=30, validation_data=([valdf.userId, valdf.movieId], valdf.rating))\n"
      ],
      "execution_count": 97,
      "outputs": [
        {
          "output_type": "stream",
          "text": [
            "Epoch 1/4\n",
            "2689/2689 [==============================] - 18s 7ms/step - loss: 0.6180 - val_loss: 0.7802\n",
            "Epoch 2/4\n",
            "2689/2689 [==============================] - 17s 6ms/step - loss: 0.6176 - val_loss: 0.7801\n",
            "Epoch 3/4\n",
            "2689/2689 [==============================] - 17s 6ms/step - loss: 0.6170 - val_loss: 0.7795\n",
            "Epoch 4/4\n",
            "2689/2689 [==============================] - 17s 6ms/step - loss: 0.6167 - val_loss: 0.7793\n"
          ],
          "name": "stdout"
        }
      ]
    },
    {
      "cell_type": "code",
      "metadata": {
        "id": "IwZb5rRIYKiS",
        "colab": {
          "base_uri": "https://localhost:8080/"
        },
        "outputId": "8efb249c-d489-4b54-a8a6-651f2d82547f"
      },
      "source": [
        "#your code here\n",
        "model.optimizer.lr = lr[1]\n",
        "histdict[1] = model.fit([trdf.userId,trdf.movieId],trdf.rating, epochs=4, batch_size=30, validation_data=([valdf.userId, valdf.movieId], valdf.rating))\n",
        "\n"
      ],
      "execution_count": 98,
      "outputs": [
        {
          "output_type": "stream",
          "text": [
            "Epoch 1/4\n",
            "2689/2689 [==============================] - 17s 6ms/step - loss: 0.9274 - val_loss: 0.9602\n",
            "Epoch 2/4\n",
            "2689/2689 [==============================] - 17s 6ms/step - loss: 0.8748 - val_loss: 0.9705\n",
            "Epoch 3/4\n",
            "2689/2689 [==============================] - 17s 6ms/step - loss: 0.8584 - val_loss: 0.9805\n",
            "Epoch 4/4\n",
            "2689/2689 [==============================] - 17s 6ms/step - loss: 0.8654 - val_loss: 0.9743\n"
          ],
          "name": "stdout"
        }
      ]
    },
    {
      "cell_type": "code",
      "metadata": {
        "id": "xEOvpc0VYKiS",
        "colab": {
          "base_uri": "https://localhost:8080/"
        },
        "outputId": "64d47e46-0912-4c98-e1d4-7838a695bac8"
      },
      "source": [
        "#your code here\n",
        "model.optimizer.lr = lr[2]\n",
        "histdict[2] = model.fit([trdf.userId,trdf.movieId],trdf.rating, epochs=4, batch_size=30, validation_data=([valdf.userId, valdf.movieId], valdf.rating))\n",
        "\n",
        "\n"
      ],
      "execution_count": 99,
      "outputs": [
        {
          "output_type": "stream",
          "text": [
            "Epoch 1/4\n",
            "2689/2689 [==============================] - 17s 6ms/step - loss: 0.6530 - val_loss: 0.7885\n",
            "Epoch 2/4\n",
            "2689/2689 [==============================] - 17s 6ms/step - loss: 0.6313 - val_loss: 0.7939\n",
            "Epoch 3/4\n",
            "2689/2689 [==============================] - 17s 6ms/step - loss: 0.6320 - val_loss: 0.7904\n",
            "Epoch 4/4\n",
            "2689/2689 [==============================] - 17s 6ms/step - loss: 0.6313 - val_loss: 0.7903\n"
          ],
          "name": "stdout"
        }
      ]
    },
    {
      "cell_type": "markdown",
      "metadata": {
        "id": "xs_ztcoTuLZ9"
      },
      "source": [
        "### Plot the trajectory of the validation loss"
      ]
    },
    {
      "cell_type": "code",
      "metadata": {
        "id": "nuj0I_rRnAog",
        "colab": {
          "base_uri": "https://localhost:8080/",
          "height": 296
        },
        "outputId": "8ee32ee0-4a46-429a-eb2c-26fcf3718113"
      },
      "source": [
        "#your code here\n",
        "plt.ylabel('loss')\n",
        "plt.xlabel('epoch')\n",
        "\n",
        "plt.plot(histdict[0].history['loss'], color='red')\n",
        "plt.plot(histdict[0].history['val_loss'], color='blue')\n"
      ],
      "execution_count": 104,
      "outputs": [
        {
          "output_type": "execute_result",
          "data": {
            "text/plain": [
              "[<matplotlib.lines.Line2D at 0x7f2356a78dd8>]"
            ]
          },
          "metadata": {
            "tags": []
          },
          "execution_count": 104
        },
        {
          "output_type": "display_data",
          "data": {
            "image/png": "[encoded data removed]",
            "text/plain": [
              "<Figure size 432x288 with 1 Axes>"
            ]
          },
          "metadata": {
            "tags": [],
            "needs_background": "light"
          }
        }
      ]
    },
    {
      "cell_type": "code",
      "metadata": {
        "colab": {
          "base_uri": "https://localhost:8080/",
          "height": 296
        },
        "id": "7vH2Mcn7EESR",
        "outputId": "5c8979fe-f396-4b4c-aab7-e2a698223b2c"
      },
      "source": [
        "#your code here\n",
        "plt.ylabel('loss')\n",
        "plt.xlabel('epoch')\n",
        "\n",
        "plt.plot(histdict[1].history['loss'], color='red')\n",
        "plt.plot(histdict[1].history['val_loss'], color='blue')\n"
      ],
      "execution_count": 105,
      "outputs": [
        {
          "output_type": "execute_result",
          "data": {
            "text/plain": [
              "[<matplotlib.lines.Line2D at 0x7f2356a1bfd0>]"
            ]
          },
          "metadata": {
            "tags": []
          },
          "execution_count": 105
        },
        {
          "output_type": "display_data",
          "data": {
            "image/png": "[encoded data removed]",
            "text/plain": [
              "<Figure size 432x288 with 1 Axes>"
            ]
          },
          "metadata": {
            "tags": [],
            "needs_background": "light"
          }
        }
      ]
    },
    {
      "cell_type": "code",
      "metadata": {
        "colab": {
          "base_uri": "https://localhost:8080/",
          "height": 298
        },
        "id": "suZriOI1EEm5",
        "outputId": "7694365f-edad-43c4-aa59-c11a8c2dfece"
      },
      "source": [
        "#your code here\n",
        "plt.ylabel('loss')\n",
        "plt.xlabel('epoch')\n",
        "\n",
        "plt.plot(histdict[2].history['loss'], color = 'red')\n",
        "plt.plot(histdict[2].history['val_loss'], color = 'blue')\n"
      ],
      "execution_count": 106,
      "outputs": [
        {
          "output_type": "execute_result",
          "data": {
            "text/plain": [
              "[<matplotlib.lines.Line2D at 0x7f235698ed30>]"
            ]
          },
          "metadata": {
            "tags": []
          },
          "execution_count": 106
        },
        {
          "output_type": "display_data",
          "data": {
            "image/png": "[encoded data removed]",
            "text/plain": [
              "<Figure size 432x288 with 1 Axes>"
            ]
          },
          "metadata": {
            "tags": [],
            "needs_background": "light"
          }
        }
      ]
    },
    {
      "cell_type": "markdown",
      "metadata": {
        "id": "mZFdDOpfql0V"
      },
      "source": [
        "## EarlyStopping\n",
        "\n",
        "Implement earlystopping to observe the point at which your validation loss will start to climb"
      ]
    },
    {
      "cell_type": "code",
      "metadata": {
        "id": "iuTuhK92mapy",
        "colab": {
          "base_uri": "https://localhost:8080/"
        },
        "outputId": "63ba72ee-d780-474b-8633-f19582c48dde"
      },
      "source": [
        "#Pick a learning rate and apply EarlyStopping\n",
        "#your code here\n",
        "es = tf.keras.callbacks.EarlyStopping(monitor = 'val_loss', mode = 'min', verbose = 1)\n",
        "\n",
        "model.optimizer.lr = lr[1]\n",
        "histdict[1] = model.fit([trdf.userId,trdf.movieId],trdf.rating, epochs=4, batch_size=30, validation_data=([valdf.userId, valdf.movieId], valdf.rating), callbacks = [es])\n",
        "\n",
        "\n"
      ],
      "execution_count": 107,
      "outputs": [
        {
          "output_type": "stream",
          "text": [
            "Epoch 1/4\n",
            "2689/2689 [==============================] - 17s 6ms/step - loss: 0.8698 - val_loss: 0.9876\n",
            "Epoch 2/4\n",
            "2689/2689 [==============================] - 18s 7ms/step - loss: 0.8601 - val_loss: 0.9605\n",
            "Epoch 3/4\n",
            "2689/2689 [==============================] - 18s 7ms/step - loss: 0.8636 - val_loss: 0.9999\n",
            "Epoch 00003: early stopping\n"
          ],
          "name": "stdout"
        }
      ]
    },
    {
      "cell_type": "code",
      "metadata": {
        "colab": {
          "base_uri": "https://localhost:8080/",
          "height": 296
        },
        "id": "qzY_umo5KIOA",
        "outputId": "48cc5b84-6f82-4482-8481-fccd7a7e062d"
      },
      "source": [
        "#your code here\n",
        "plt.ylabel('loss')\n",
        "plt.xlabel('epoch')\n",
        "\n",
        "plt.plot(histdict[1].history['loss'], color='red')\n",
        "plt.plot(histdict[1].history['val_loss'], color='blue')\n"
      ],
      "execution_count": 108,
      "outputs": [
        {
          "output_type": "execute_result",
          "data": {
            "text/plain": [
              "[<matplotlib.lines.Line2D at 0x7f2356a474e0>]"
            ]
          },
          "metadata": {
            "tags": []
          },
          "execution_count": 108
        },
        {
          "output_type": "display_data",
          "data": {
            "image/png": "[encoded data removed]",
            "text/plain": [
              "<Figure size 432x288 with 1 Axes>"
            ]
          },
          "metadata": {
            "tags": [],
            "needs_background": "light"
          }
        }
      ]
    },
    {
      "cell_type": "markdown",
      "metadata": {
        "id": "cZuEovoOs8_P"
      },
      "source": [
        "## Choosing different L and Reg \n",
        "\n",
        "Create the same model for two different 'L' or output dimension of latent factors and also vary the regularization 'Reg'"
      ]
    },
    {
      "cell_type": "code",
      "metadata": {
        "id": "2lB6mN7qlWUu"
      },
      "source": [
        "#your code here\n",
        "L=50\n",
        "REG = 5e-4\n",
        "from sklearn.model_selection import ParameterGrid\n",
        "from sklearn.model_selection import GridSearchCV\n",
        "\n",
        "param_grid = {'L': [25, 100], 'REG': [5e-4, 5e-8]}\n",
        "\n",
        "#grid = GridSearchCV(,param_grid)"
      ],
      "execution_count": 118,
      "outputs": []
    },
    {
      "cell_type": "code",
      "metadata": {
        "id": "ckD-DSeGLejP"
      },
      "source": [
        "user_input, uLmat = embedding_input('user_input', nusers, L, REG)\n",
        "movie_input, mLmat = embedding_input('movie_input', nmovies, L, REG)"
      ],
      "execution_count": 117,
      "outputs": []
    },
    {
      "cell_type": "code",
      "metadata": {
        "id": "N6Nr4r7OUzir"
      },
      "source": [
        "#Saving the model\n",
        "model.save_weights(\"/content/drive/MyDrive/DS-1 /Lab 4/cf.h5\")"
      ],
      "execution_count": null,
      "outputs": []
    }
  ]
}